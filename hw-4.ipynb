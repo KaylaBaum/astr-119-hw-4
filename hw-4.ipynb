{
 "cells": [
  {
   "cell_type": "markdown",
   "metadata": {},
   "source": [
    "__Numerically integrate the function $f(x) = e^{-2x} cos{(10x)}$ over the range $[0, pi]$. Use the trapezoid method, Simpson's rule, and Romberg integration (when using Romberg integration, specify a tolerance of 1.0e-6).__\n",
    "\n",
    "__Questions to consider and answer:__\n",
    "_* How many iterations does Romberg integration take to reach the specified accuracy?_\n",
    "_* How many intervals does the trapezoid method need to reach the specified accuracy?_\n",
    "_* How many intervals does Simpson’s rule need to reach the specified accuracy?_"
   ]
  },
  {
   "cell_type": "markdown",
   "metadata": {},
   "source": []
  }
 ],
 "metadata": {
  "kernelspec": {
   "display_name": "Python 3",
   "language": "python",
   "name": "python3"
  },
  "language_info": {
   "codemirror_mode": {
    "name": "ipython",
    "version": 3
   },
   "file_extension": ".py",
   "mimetype": "text/x-python",
   "name": "python",
   "nbconvert_exporter": "python",
   "pygments_lexer": "ipython3",
   "version": "3.6.5"
  }
 },
 "nbformat": 4,
 "nbformat_minor": 2
}
